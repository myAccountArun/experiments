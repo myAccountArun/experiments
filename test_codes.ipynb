{
 "cells": [
  {
   "cell_type": "code",
   "execution_count": 2,
   "id": "5ed34ae8",
   "metadata": {},
   "outputs": [
    {
     "name": "stdout",
     "output_type": "stream",
     "text": [
      "Original DataFrame:\n",
      "            Price\n",
      "2025-04-07    100\n",
      "2025-04-08    101\n",
      "2025-04-10    102\n",
      "2025-04-15    103\n",
      "\n",
      "DataFrame with Business-Day Frequency:\n",
      "            Price\n",
      "2025-04-07  100.0\n",
      "2025-04-08  101.0\n",
      "2025-04-09    NaN\n",
      "2025-04-10  102.0\n",
      "2025-04-11    NaN\n",
      "2025-04-14    NaN\n",
      "2025-04-15  103.0\n"
     ]
    }
   ],
   "source": [
    "import pandas as pd\n",
    "\n",
    "# Create a sample DataFrame with a DateTimeIndex\n",
    "data = {\n",
    "    'Price': [100, 101, 102, 103]\n",
    "}\n",
    "index = pd.to_datetime(['2025-04-07', '2025-04-08', '2025-04-10', '2025-04-15'])  # Some missing business dates\n",
    "nasdaq = pd.DataFrame(data, index=index)\n",
    "\n",
    "# Original DataFrame\n",
    "print(\"Original DataFrame:\")\n",
    "print(nasdaq)\n",
    "\n",
    "# Convert to business-day frequency\n",
    "nasdaq_business = nasdaq.asfreq('B')\n",
    "\n",
    "print(\"\\nDataFrame with Business-Day Frequency:\")\n",
    "print(nasdaq_business)"
   ]
  },
  {
   "cell_type": "code",
   "execution_count": 3,
   "id": "c06eb375",
   "metadata": {},
   "outputs": [],
   "source": [
    "# Fill missing values with interpolation\n",
    "nasdaq_business = nasdaq_business.interpolate(method='linear')"
   ]
  },
  {
   "cell_type": "code",
   "execution_count": 4,
   "id": "3ce774f6",
   "metadata": {},
   "outputs": [
    {
     "name": "stdout",
     "output_type": "stream",
     "text": [
      "\n",
      "DataFrame after Interpolation:\n",
      "                 Price\n",
      "2025-04-07  100.000000\n",
      "2025-04-08  101.000000\n",
      "2025-04-09  101.500000\n",
      "2025-04-10  102.000000\n",
      "2025-04-11  102.333333\n",
      "2025-04-14  102.666667\n",
      "2025-04-15  103.000000\n"
     ]
    }
   ],
   "source": [
    "print(\"\\nDataFrame after Interpolation:\")\n",
    "print(nasdaq_business)"
   ]
  }
 ],
 "metadata": {
  "kernelspec": {
   "display_name": "Python 3",
   "language": "python",
   "name": "python3"
  },
  "language_info": {
   "codemirror_mode": {
    "name": "ipython",
    "version": 3
   },
   "file_extension": ".py",
   "mimetype": "text/x-python",
   "name": "python",
   "nbconvert_exporter": "python",
   "pygments_lexer": "ipython3",
   "version": "3.12.1"
  }
 },
 "nbformat": 4,
 "nbformat_minor": 5
}
